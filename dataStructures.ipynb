{
 "cells": [
  {
   "cell_type": "code",
   "execution_count": 2,
   "id": "9720c143",
   "metadata": {},
   "outputs": [
    {
     "data": {
      "text/plain": [
       "{4: 3, 6: 2, 2: 2, 5: 1}"
      ]
     },
     "execution_count": 2,
     "metadata": {},
     "output_type": "execute_result"
    }
   ],
   "source": [
    "arr = [4, 6, 2, 2, 6, 4, 4, 5]\n",
    "freq = {}\n",
    "for num in arr:\n",
    "    if num in freq:\n",
    "        freq[num] += 1\n",
    "    else:\n",
    "        freq[num] = 1\n",
    "freq"
   ]
  },
  {
   "cell_type": "code",
   "execution_count": 3,
   "id": "212a0c1c",
   "metadata": {},
   "outputs": [
    {
     "name": "stdout",
     "output_type": "stream",
     "text": [
      "[5, 2, 2, 6, 6, 4, 4, 4]\n"
     ]
    }
   ],
   "source": [
    "# Sort elements in increasing order of how often they appear\n",
    "\n",
    "def sort_by_frequency(arr):\n",
    "    freq = {}  # Dictionary to store frequency\n",
    "    for num in arr:\n",
    "        if num in freq:\n",
    "            freq[num] += 1\n",
    "        else:\n",
    "            freq[num] = 1\n",
    "    \n",
    "    # Sort by frequency first, then by value (to break ties)\n",
    "    arr.sort(key=lambda x: (freq[x], x))\n",
    "    return arr\n",
    "\n",
    "# Example\n",
    "arr = [4, 6, 2, 2, 6, 4, 4, 5]\n",
    "print(sort_by_frequency(arr))  # Output: [5, 2, 2, 6, 6, 4, 4, 4]\n"
   ]
  },
  {
   "cell_type": "code",
   "execution_count": 1,
   "id": "4fc51284",
   "metadata": {},
   "outputs": [
    {
     "name": "stdout",
     "output_type": "stream",
     "text": [
      "Size before popping: 8856\n",
      "Size after popping: 1656\n"
     ]
    }
   ],
   "source": [
    "# Observe how Python list memory shrinks when many elements are popped\n",
    "\n",
    "import sys\n",
    "\n",
    "lst = [i for i in range(1000)]\n",
    "print(\"Size before popping:\", sys.getsizeof(lst))\n",
    "\n",
    "for _ in range(900):\n",
    "    lst.pop()\n",
    "\n",
    "print(\"Size after popping:\", sys.getsizeof(lst))\n",
    "\n"
   ]
  },
  {
   "cell_type": "code",
   "execution_count": 2,
   "id": "d402a575",
   "metadata": {},
   "outputs": [
    {
     "name": "stdout",
     "output_type": "stream",
     "text": [
      "Repeated numbers: [1, 2, 3, 4, 5]\n"
     ]
    }
   ],
   "source": [
    "# Find numbers that appear more than once\n",
    "\n",
    "def find_repeats(arr):\n",
    "    count = {}\n",
    "    repeated = []\n",
    "\n",
    "    for num in arr:\n",
    "        if num in count:\n",
    "            count[num] += 1\n",
    "        else:\n",
    "            count[num] = 1\n",
    "\n",
    "    for num in count:\n",
    "        if count[num] > 1:\n",
    "            repeated.append(num)\n",
    "\n",
    "    return repeated\n",
    "\n",
    "# Example\n",
    "arr = [1, 2, 3, 4, 5, 6, 1, 2, 3, 4, 5]  # Should return the 5 repeated ones\n",
    "print(\"Repeated numbers:\", find_repeats(arr))\n"
   ]
  }
 ],
 "metadata": {
  "kernelspec": {
   "display_name": "Python 3",
   "language": "python",
   "name": "python3"
  },
  "language_info": {
   "codemirror_mode": {
    "name": "ipython",
    "version": 3
   },
   "file_extension": ".py",
   "mimetype": "text/x-python",
   "name": "python",
   "nbconvert_exporter": "python",
   "pygments_lexer": "ipython3",
   "version": "3.13.1"
  }
 },
 "nbformat": 4,
 "nbformat_minor": 5
}
